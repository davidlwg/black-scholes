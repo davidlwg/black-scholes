{
 "cells": [
  {
   "cell_type": "code",
   "execution_count": 54,
   "metadata": {
    "collapsed": true
   },
   "outputs": [],
   "source": [
    "import yfinance as yf\n",
    "import numpy as np"
   ]
  },
  {
   "cell_type": "code",
   "execution_count": 58,
   "outputs": [
    {
     "name": "stdout",
     "output_type": "stream",
     "text": [
      "[*********************100%***********************]  1 of 1 completed\n",
      "<class 'pandas.core.frame.DataFrame'>\n"
     ]
    }
   ],
   "source": [
    "data = yf.download(\"BTC-USD\", group_by='ticker')\n",
    "price_open = data[data.columns[0]]\n",
    "high = data[data.columns[1]]\n",
    "low = data[data.columns[2]]\n",
    "close = data[data.columns[3]]\n",
    "adj_close = data[data.columns[4]]\n",
    "volume = data[data.columns[5]]\n",
    "\n",
    "pct_move = np.empty(0)\n",
    "for i, value in enumerate(close):\n",
    "    if i == 0:\n",
    "        continue\n",
    "\n",
    "    # print(\"i: \", i ,\"previous close: \", close[i - 1], \" close: \", value, \" % chg: \", (value - close[i - 1])/close[i - 1])\n",
    "    pct_move = np.append(pct_move, (value - close[i - 1])/close[i - 1])\n",
    "\n",
    "# print(pct_move)\n",
    "# print(close)\n",
    "print(type(data))\n"
   ],
   "metadata": {
    "collapsed": false,
    "pycharm": {
     "name": "#%%\n"
    }
   }
  },
  {
   "cell_type": "markdown",
   "source": [],
   "metadata": {
    "collapsed": false,
    "pycharm": {
     "name": "#%% md\n"
    }
   }
  },
  {
   "cell_type": "markdown",
   "source": [
    "# Black Scholes Model\n",
    "<img height=\"544.5\" src=\"blackscholes.jpg\" width=\"1459\"/>"
   ],
   "metadata": {
    "collapsed": false,
    "pycharm": {
     "name": "#%% md\n"
    }
   }
  },
  {
   "cell_type": "code",
   "execution_count": null,
   "outputs": [],
   "source": [],
   "metadata": {
    "collapsed": false,
    "pycharm": {
     "name": "#%%\n"
    }
   }
  }
 ],
 "metadata": {
  "kernelspec": {
   "display_name": "Python 3",
   "language": "python",
   "name": "python3"
  },
  "language_info": {
   "codemirror_mode": {
    "name": "ipython",
    "version": 2
   },
   "file_extension": ".py",
   "mimetype": "text/x-python",
   "name": "python",
   "nbconvert_exporter": "python",
   "pygments_lexer": "ipython2",
   "version": "2.7.6"
  }
 },
 "nbformat": 4,
 "nbformat_minor": 0
}